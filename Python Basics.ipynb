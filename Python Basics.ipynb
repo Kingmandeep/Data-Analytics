{
 "cells": [
  {
   "cell_type": "code",
   "execution_count": 1,
   "id": "revised-india",
   "metadata": {},
   "outputs": [
    {
     "data": {
      "text/plain": [
       "15"
      ]
     },
     "execution_count": 1,
     "metadata": {},
     "output_type": "execute_result"
    }
   ],
   "source": [
    "8+7"
   ]
  },
  {
   "cell_type": "code",
   "execution_count": 2,
   "id": "aerial-frost",
   "metadata": {},
   "outputs": [
    {
     "data": {
      "text/plain": [
       "22"
      ]
     },
     "execution_count": 2,
     "metadata": {},
     "output_type": "execute_result"
    }
   ],
   "source": [
    "1+2+4+8+7\n"
   ]
  },
  {
   "cell_type": "code",
   "execution_count": 3,
   "id": "simple-fleet",
   "metadata": {},
   "outputs": [
    {
     "data": {
      "text/plain": [
       "114"
      ]
     },
     "execution_count": 3,
     "metadata": {},
     "output_type": "execute_result"
    }
   ],
   "source": [
    "56*2+2"
   ]
  },
  {
   "cell_type": "code",
   "execution_count": 4,
   "id": "ranking-corps",
   "metadata": {},
   "outputs": [
    {
     "data": {
      "text/plain": [
       "10"
      ]
     },
     "execution_count": 4,
     "metadata": {},
     "output_type": "execute_result"
    }
   ],
   "source": [
    "54//5"
   ]
  },
  {
   "cell_type": "code",
   "execution_count": 5,
   "id": "adopted-affair",
   "metadata": {},
   "outputs": [
    {
     "data": {
      "text/plain": [
       "10.8"
      ]
     },
     "execution_count": 5,
     "metadata": {},
     "output_type": "execute_result"
    }
   ],
   "source": [
    "54/5"
   ]
  },
  {
   "cell_type": "code",
   "execution_count": 6,
   "id": "progressive-oregon",
   "metadata": {},
   "outputs": [
    {
     "data": {
      "text/plain": [
       "24"
      ]
     },
     "execution_count": 6,
     "metadata": {},
     "output_type": "execute_result"
    }
   ],
   "source": [
    "32-8"
   ]
  },
  {
   "cell_type": "code",
   "execution_count": 7,
   "id": "treated-remedy",
   "metadata": {},
   "outputs": [
    {
     "data": {
      "text/plain": [
       "-117.8"
      ]
     },
     "execution_count": 7,
     "metadata": {},
     "output_type": "execute_result"
    }
   ],
   "source": [
    "23.56* -5"
   ]
  },
  {
   "cell_type": "code",
   "execution_count": 8,
   "id": "exterior-cambridge",
   "metadata": {},
   "outputs": [
    {
     "data": {
      "text/plain": [
       "-4"
      ]
     },
     "execution_count": 8,
     "metadata": {},
     "output_type": "execute_result"
    }
   ],
   "source": [
    "2* -2"
   ]
  },
  {
   "cell_type": "code",
   "execution_count": 9,
   "id": "operating-vancouver",
   "metadata": {},
   "outputs": [
    {
     "data": {
      "text/plain": [
       "-4"
      ]
     },
     "execution_count": 9,
     "metadata": {},
     "output_type": "execute_result"
    }
   ],
   "source": [
    "2*-2"
   ]
  },
  {
   "cell_type": "code",
   "execution_count": 10,
   "id": "powered-interval",
   "metadata": {},
   "outputs": [
    {
     "data": {
      "text/plain": [
       "-164.5"
      ]
     },
     "execution_count": 10,
     "metadata": {},
     "output_type": "execute_result"
    }
   ],
   "source": [
    "987/-6"
   ]
  },
  {
   "cell_type": "code",
   "execution_count": 11,
   "id": "comic-turning",
   "metadata": {},
   "outputs": [
    {
     "data": {
      "text/plain": [
       "6.75"
      ]
     },
     "execution_count": 11,
     "metadata": {},
     "output_type": "execute_result"
    }
   ],
   "source": [
    "54/8"
   ]
  },
  {
   "cell_type": "code",
   "execution_count": 12,
   "id": "adapted-damage",
   "metadata": {},
   "outputs": [
    {
     "data": {
      "text/plain": [
       "15625"
      ]
     },
     "execution_count": 12,
     "metadata": {},
     "output_type": "execute_result"
    }
   ],
   "source": [
    "5 ** 6"
   ]
  },
  {
   "cell_type": "code",
   "execution_count": 13,
   "id": "actual-maintenance",
   "metadata": {},
   "outputs": [
    {
     "data": {
      "text/plain": [
       "15"
      ]
     },
     "execution_count": 13,
     "metadata": {},
     "output_type": "execute_result"
    }
   ],
   "source": [
    "5  *3"
   ]
  },
  {
   "cell_type": "code",
   "execution_count": 14,
   "id": "accessory-surveillance",
   "metadata": {},
   "outputs": [
    {
     "data": {
      "text/plain": [
       "125"
      ]
     },
     "execution_count": 14,
     "metadata": {},
     "output_type": "execute_result"
    }
   ],
   "source": [
    "5**3"
   ]
  },
  {
   "cell_type": "code",
   "execution_count": 15,
   "id": "heated-event",
   "metadata": {},
   "outputs": [
    {
     "data": {
      "text/plain": [
       "128"
      ]
     },
     "execution_count": 15,
     "metadata": {},
     "output_type": "execute_result"
    }
   ],
   "source": [
    "2**7"
   ]
  },
  {
   "cell_type": "code",
   "execution_count": 16,
   "id": "published-backing",
   "metadata": {},
   "outputs": [
    {
     "data": {
      "text/plain": [
       "105.0"
      ]
     },
     "execution_count": 16,
     "metadata": {},
     "output_type": "execute_result"
    }
   ],
   "source": [
    "((5+9)*(3*5)/2)"
   ]
  },
  {
   "cell_type": "code",
   "execution_count": 17,
   "id": "isolated-stylus",
   "metadata": {},
   "outputs": [
    {
     "data": {
      "text/plain": [
       "105.0"
      ]
     },
     "execution_count": 17,
     "metadata": {},
     "output_type": "execute_result"
    }
   ],
   "source": [
    "7.5*14"
   ]
  },
  {
   "cell_type": "code",
   "execution_count": 18,
   "id": "subsequent-azerbaijan",
   "metadata": {},
   "outputs": [
    {
     "data": {
      "text/plain": [
       "125.0"
      ]
     },
     "execution_count": 18,
     "metadata": {},
     "output_type": "execute_result"
    }
   ],
   "source": [
    "500*(.2*1.25)"
   ]
  },
  {
   "cell_type": "code",
   "execution_count": 19,
   "id": "reasonable-grain",
   "metadata": {},
   "outputs": [],
   "source": [
    "p=.3"
   ]
  },
  {
   "cell_type": "code",
   "execution_count": 20,
   "id": "oriental-future",
   "metadata": {
    "scrolled": true
   },
   "outputs": [],
   "source": [
    "c=p*1.25"
   ]
  },
  {
   "cell_type": "code",
   "execution_count": 21,
   "id": "collectible-working",
   "metadata": {},
   "outputs": [
    {
     "data": {
      "text/plain": [
       "0.375"
      ]
     },
     "execution_count": 21,
     "metadata": {},
     "output_type": "execute_result"
    }
   ],
   "source": [
    "c"
   ]
  },
  {
   "cell_type": "code",
   "execution_count": 22,
   "id": "electronic-wallace",
   "metadata": {},
   "outputs": [],
   "source": [
    "p=.2"
   ]
  },
  {
   "cell_type": "code",
   "execution_count": 23,
   "id": "interracial-highland",
   "metadata": {},
   "outputs": [
    {
     "data": {
      "text/plain": [
       "0.2"
      ]
     },
     "execution_count": 23,
     "metadata": {},
     "output_type": "execute_result"
    }
   ],
   "source": [
    "p"
   ]
  },
  {
   "cell_type": "code",
   "execution_count": 24,
   "id": "regulated-reynolds",
   "metadata": {},
   "outputs": [
    {
     "data": {
      "text/plain": [
       "False"
      ]
     },
     "execution_count": 24,
     "metadata": {},
     "output_type": "execute_result"
    }
   ],
   "source": [
    "98==54"
   ]
  },
  {
   "cell_type": "code",
   "execution_count": 25,
   "id": "threaded-empty",
   "metadata": {},
   "outputs": [
    {
     "data": {
      "text/plain": [
       "False"
      ]
     },
     "execution_count": 25,
     "metadata": {},
     "output_type": "execute_result"
    }
   ],
   "source": [
    "98!=98"
   ]
  },
  {
   "cell_type": "code",
   "execution_count": 26,
   "id": "addressed-astronomy",
   "metadata": {},
   "outputs": [
    {
     "data": {
      "text/plain": [
       "False"
      ]
     },
     "execution_count": 26,
     "metadata": {},
     "output_type": "execute_result"
    }
   ],
   "source": [
    "98<=56"
   ]
  },
  {
   "cell_type": "code",
   "execution_count": 27,
   "id": "portable-archive",
   "metadata": {},
   "outputs": [
    {
     "data": {
      "text/plain": [
       "True"
      ]
     },
     "execution_count": 27,
     "metadata": {},
     "output_type": "execute_result"
    }
   ],
   "source": [
    "89+98>23"
   ]
  },
  {
   "cell_type": "code",
   "execution_count": 28,
   "id": "first-ozone",
   "metadata": {},
   "outputs": [],
   "source": [
    "a=98"
   ]
  },
  {
   "cell_type": "code",
   "execution_count": 29,
   "id": "aerial-activity",
   "metadata": {},
   "outputs": [],
   "source": [
    "b=35"
   ]
  },
  {
   "cell_type": "code",
   "execution_count": 30,
   "id": "comprehensive-amount",
   "metadata": {},
   "outputs": [],
   "source": [
    "c=54"
   ]
  },
  {
   "cell_type": "code",
   "execution_count": 31,
   "id": "dense-dollar",
   "metadata": {},
   "outputs": [
    {
     "data": {
      "text/plain": [
       "True"
      ]
     },
     "execution_count": 31,
     "metadata": {},
     "output_type": "execute_result"
    }
   ],
   "source": [
    "a>=b"
   ]
  },
  {
   "cell_type": "code",
   "execution_count": 32,
   "id": "preliminary-horror",
   "metadata": {},
   "outputs": [
    {
     "data": {
      "text/plain": [
       "False"
      ]
     },
     "execution_count": 32,
     "metadata": {},
     "output_type": "execute_result"
    }
   ],
   "source": [
    "a<b"
   ]
  },
  {
   "cell_type": "code",
   "execution_count": 33,
   "id": "quick-birthday",
   "metadata": {},
   "outputs": [
    {
     "data": {
      "text/plain": [
       "False"
      ]
     },
     "execution_count": 33,
     "metadata": {},
     "output_type": "execute_result"
    }
   ],
   "source": [
    "a<=c"
   ]
  },
  {
   "cell_type": "code",
   "execution_count": 34,
   "id": "convenient-works",
   "metadata": {},
   "outputs": [
    {
     "data": {
      "text/plain": [
       "True"
      ]
     },
     "execution_count": 34,
     "metadata": {},
     "output_type": "execute_result"
    }
   ],
   "source": [
    "a>=c"
   ]
  },
  {
   "cell_type": "code",
   "execution_count": 35,
   "id": "careful-receipt",
   "metadata": {},
   "outputs": [
    {
     "data": {
      "text/plain": [
       "False"
      ]
     },
     "execution_count": 35,
     "metadata": {},
     "output_type": "execute_result"
    }
   ],
   "source": [
    "a==c==b"
   ]
  },
  {
   "cell_type": "code",
   "execution_count": 36,
   "id": "gothic-stopping",
   "metadata": {},
   "outputs": [],
   "source": [
    "a=b=c"
   ]
  },
  {
   "cell_type": "code",
   "execution_count": 37,
   "id": "computational-shell",
   "metadata": {},
   "outputs": [
    {
     "data": {
      "text/plain": [
       "54"
      ]
     },
     "execution_count": 37,
     "metadata": {},
     "output_type": "execute_result"
    }
   ],
   "source": [
    "a"
   ]
  },
  {
   "cell_type": "code",
   "execution_count": 38,
   "id": "cosmetic-demographic",
   "metadata": {},
   "outputs": [
    {
     "data": {
      "text/plain": [
       "54"
      ]
     },
     "execution_count": 38,
     "metadata": {},
     "output_type": "execute_result"
    }
   ],
   "source": [
    "b"
   ]
  },
  {
   "cell_type": "code",
   "execution_count": 39,
   "id": "standard-joseph",
   "metadata": {},
   "outputs": [
    {
     "data": {
      "text/plain": [
       "54"
      ]
     },
     "execution_count": 39,
     "metadata": {},
     "output_type": "execute_result"
    }
   ],
   "source": [
    "c"
   ]
  },
  {
   "cell_type": "code",
   "execution_count": 40,
   "id": "european-howard",
   "metadata": {},
   "outputs": [],
   "source": [
    "c=98"
   ]
  },
  {
   "cell_type": "code",
   "execution_count": 41,
   "id": "lyric-force",
   "metadata": {},
   "outputs": [
    {
     "data": {
      "text/plain": [
       "False"
      ]
     },
     "execution_count": 41,
     "metadata": {},
     "output_type": "execute_result"
    }
   ],
   "source": [
    "c==b==a"
   ]
  },
  {
   "cell_type": "code",
   "execution_count": 42,
   "id": "scheduled-chinese",
   "metadata": {},
   "outputs": [
    {
     "data": {
      "text/plain": [
       "True"
      ]
     },
     "execution_count": 42,
     "metadata": {},
     "output_type": "execute_result"
    }
   ],
   "source": [
    "(5>4  or 9<8)"
   ]
  },
  {
   "cell_type": "code",
   "execution_count": 43,
   "id": "separate-member",
   "metadata": {},
   "outputs": [
    {
     "data": {
      "text/plain": [
       "False"
      ]
     },
     "execution_count": 43,
     "metadata": {},
     "output_type": "execute_result"
    }
   ],
   "source": [
    "8>9 or 9>11"
   ]
  },
  {
   "cell_type": "code",
   "execution_count": 44,
   "id": "fitting-stranger",
   "metadata": {},
   "outputs": [
    {
     "data": {
      "text/plain": [
       "True"
      ]
     },
     "execution_count": 44,
     "metadata": {},
     "output_type": "execute_result"
    }
   ],
   "source": [
    "False or True"
   ]
  },
  {
   "cell_type": "code",
   "execution_count": 45,
   "id": "peaceful-cambodia",
   "metadata": {},
   "outputs": [
    {
     "data": {
      "text/plain": [
       "False"
      ]
     },
     "execution_count": 45,
     "metadata": {},
     "output_type": "execute_result"
    }
   ],
   "source": [
    "False and True"
   ]
  },
  {
   "cell_type": "code",
   "execution_count": 46,
   "id": "obvious-gathering",
   "metadata": {},
   "outputs": [
    {
     "data": {
      "text/plain": [
       "True"
      ]
     },
     "execution_count": 46,
     "metadata": {},
     "output_type": "execute_result"
    }
   ],
   "source": [
    "not False and 5>4"
   ]
  },
  {
   "cell_type": "code",
   "execution_count": 47,
   "id": "adjacent-accused",
   "metadata": {},
   "outputs": [
    {
     "data": {
      "text/plain": [
       "True"
      ]
     },
     "execution_count": 47,
     "metadata": {},
     "output_type": "execute_result"
    }
   ],
   "source": [
    "not True or 6*4>20"
   ]
  },
  {
   "cell_type": "code",
   "execution_count": 48,
   "id": "solar-warrior",
   "metadata": {},
   "outputs": [
    {
     "data": {
      "text/plain": [
       "7"
      ]
     },
     "execution_count": 48,
     "metadata": {},
     "output_type": "execute_result"
    }
   ],
   "source": [
    "5^2"
   ]
  },
  {
   "cell_type": "code",
   "execution_count": 49,
   "id": "lyric-above",
   "metadata": {},
   "outputs": [
    {
     "data": {
      "text/plain": [
       "13"
      ]
     },
     "execution_count": 49,
     "metadata": {},
     "output_type": "execute_result"
    }
   ],
   "source": [
    "10^7"
   ]
  },
  {
   "cell_type": "markdown",
   "id": "nutritional-recall",
   "metadata": {},
   "source": [
    "## This is Mandeep kumar "
   ]
  },
  {
   "cell_type": "markdown",
   "id": "representative-reverse",
   "metadata": {},
   "source": []
  },
  {
   "cell_type": "markdown",
   "id": "aggregate-guest",
   "metadata": {},
   "source": [
    "## This is python Basics"
   ]
  },
  {
   "cell_type": "code",
   "execution_count": 50,
   "id": "elegant-links",
   "metadata": {
    "scrolled": true
   },
   "outputs": [
    {
     "name": "stderr",
     "output_type": "stream",
     "text": [
      "WARNING: You are using pip version 20.2.3; however, version 21.0.1 is available.\n",
      "You should consider upgrading via the 'c:\\python\\python39\\python.exe -m pip install --upgrade pip' command.\n"
     ]
    }
   ],
   "source": [
    "!pip install jovian --upgrade --quiet"
   ]
  },
  {
   "cell_type": "code",
   "execution_count": 51,
   "id": "broad-blame",
   "metadata": {},
   "outputs": [],
   "source": [
    "import jovian"
   ]
  },
  {
   "cell_type": "code",
   "execution_count": 52,
   "id": "outdoor-sender",
   "metadata": {
    "scrolled": true
   },
   "outputs": [
    {
     "data": {
      "application/javascript": [
       "window.require && require([\"base/js/namespace\"],function(Jupyter){Jupyter.notebook.save_checkpoint()})"
      ],
      "text/plain": [
       "<IPython.core.display.Javascript object>"
      ]
     },
     "metadata": {},
     "output_type": "display_data"
    },
    {
     "name": "stdout",
     "output_type": "stream",
     "text": [
      "[jovian] Attempting to save notebook..\n",
      "[jovian] Updating notebook \"kingmandeep/first-steps-with-python\" on https://jovian.ai/\n",
      "[jovian] Uploading notebook..\n",
      "[jovian] Capturing environment..\n"
     ]
    },
    {
     "name": "stderr",
     "output_type": "stream",
     "text": [
      "[jovian] Error: Failed to read Anaconda environment using command: \"conda env export -n base --no-builds\"\r\n"
     ]
    },
    {
     "name": "stdout",
     "output_type": "stream",
     "text": [
      "[jovian] Committed successfully! https://jovian.ai/kingmandeep/first-steps-with-python\r\n"
     ]
    },
    {
     "data": {
      "text/plain": [
       "'https://jovian.ai/kingmandeep/first-steps-with-python'"
      ]
     },
     "execution_count": 52,
     "metadata": {},
     "output_type": "execute_result"
    }
   ],
   "source": [
    "jovian.commit(project='first-steps-with-python')"
   ]
  },
  {
   "cell_type": "markdown",
   "id": "functioning-current",
   "metadata": {},
   "source": [
    "# Variable"
   ]
  },
  {
   "cell_type": "code",
   "execution_count": 53,
   "id": "pleasant-whale",
   "metadata": {},
   "outputs": [],
   "source": [
    "my_fav_color=\"red\""
   ]
  },
  {
   "cell_type": "code",
   "execution_count": 54,
   "id": "provincial-offering",
   "metadata": {},
   "outputs": [
    {
     "data": {
      "text/plain": [
       "'red'"
      ]
     },
     "execution_count": 54,
     "metadata": {},
     "output_type": "execute_result"
    }
   ],
   "source": [
    "my_fav_color"
   ]
  },
  {
   "cell_type": "code",
   "execution_count": 55,
   "id": "biblical-commitment",
   "metadata": {},
   "outputs": [],
   "source": [
    "color1,color2,color3=\"red\",\"blue\",\"yellow\""
   ]
  },
  {
   "cell_type": "code",
   "execution_count": 56,
   "id": "imported-start",
   "metadata": {},
   "outputs": [
    {
     "data": {
      "text/plain": [
       "'blue'"
      ]
     },
     "execution_count": 56,
     "metadata": {},
     "output_type": "execute_result"
    }
   ],
   "source": [
    "color2"
   ]
  },
  {
   "cell_type": "code",
   "execution_count": 57,
   "id": "alleged-directive",
   "metadata": {},
   "outputs": [
    {
     "data": {
      "text/plain": [
       "('red', 'yellow')"
      ]
     },
     "execution_count": 57,
     "metadata": {},
     "output_type": "execute_result"
    }
   ],
   "source": [
    "color1, color3"
   ]
  },
  {
   "cell_type": "code",
   "execution_count": 58,
   "id": "collective-might",
   "metadata": {},
   "outputs": [],
   "source": [
    "a=b=c=d=5"
   ]
  },
  {
   "cell_type": "code",
   "execution_count": 59,
   "id": "afraid-mortality",
   "metadata": {},
   "outputs": [
    {
     "data": {
      "text/plain": [
       "(5, 5, 5, 5)"
      ]
     },
     "execution_count": 59,
     "metadata": {},
     "output_type": "execute_result"
    }
   ],
   "source": [
    "a,b,c,d"
   ]
  },
  {
   "cell_type": "code",
   "execution_count": 60,
   "id": "requested-oliver",
   "metadata": {},
   "outputs": [],
   "source": [
    "my_fav_color=\"yellow\""
   ]
  },
  {
   "cell_type": "code",
   "execution_count": 61,
   "id": "promotional-complement",
   "metadata": {},
   "outputs": [
    {
     "data": {
      "text/plain": [
       "'yellow'"
      ]
     },
     "execution_count": 61,
     "metadata": {},
     "output_type": "execute_result"
    }
   ],
   "source": [
    "my_fav_color"
   ]
  },
  {
   "cell_type": "code",
   "execution_count": 62,
   "id": "duplicate-wilderness",
   "metadata": {},
   "outputs": [],
   "source": [
    "name=\"Mandeep\"\n",
    "Address=\"Tari Mohalla\"\n",
    "My_fav_car=\"Tesla\""
   ]
  },
  {
   "cell_type": "code",
   "execution_count": 63,
   "id": "swedish-paris",
   "metadata": {},
   "outputs": [
    {
     "data": {
      "text/plain": [
       "'Tesla'"
      ]
     },
     "execution_count": 63,
     "metadata": {},
     "output_type": "execute_result"
    }
   ],
   "source": [
    "My_fav_car"
   ]
  },
  {
   "cell_type": "markdown",
   "id": "artificial-progress",
   "metadata": {},
   "source": [
    "# Data Types"
   ]
  },
  {
   "cell_type": "code",
   "execution_count": 64,
   "id": "otherwise-apparatus",
   "metadata": {},
   "outputs": [
    {
     "data": {
      "text/plain": [
       "int"
      ]
     },
     "execution_count": 64,
     "metadata": {},
     "output_type": "execute_result"
    }
   ],
   "source": [
    "type(a)"
   ]
  },
  {
   "cell_type": "code",
   "execution_count": 65,
   "id": "injured-folks",
   "metadata": {},
   "outputs": [
    {
     "data": {
      "text/plain": [
       "str"
      ]
     },
     "execution_count": 65,
     "metadata": {},
     "output_type": "execute_result"
    }
   ],
   "source": [
    "type(My_fav_car)"
   ]
  },
  {
   "cell_type": "code",
   "execution_count": 66,
   "id": "confident-jurisdiction",
   "metadata": {},
   "outputs": [],
   "source": [
    "b=65.265943"
   ]
  },
  {
   "cell_type": "code",
   "execution_count": 67,
   "id": "focused-sussex",
   "metadata": {},
   "outputs": [
    {
     "data": {
      "text/plain": [
       "(float, 65.265943)"
      ]
     },
     "execution_count": 67,
     "metadata": {},
     "output_type": "execute_result"
    }
   ],
   "source": [
    "type(b),b"
   ]
  },
  {
   "cell_type": "code",
   "execution_count": 68,
   "id": "focused-apple",
   "metadata": {},
   "outputs": [],
   "source": [
    "c=5>7"
   ]
  },
  {
   "cell_type": "code",
   "execution_count": 69,
   "id": "previous-wages",
   "metadata": {},
   "outputs": [
    {
     "data": {
      "text/plain": [
       "(bool, False)"
      ]
     },
     "execution_count": 69,
     "metadata": {},
     "output_type": "execute_result"
    }
   ],
   "source": [
    "type(c),c"
   ]
  },
  {
   "cell_type": "code",
   "execution_count": 70,
   "id": "processed-seattle",
   "metadata": {},
   "outputs": [],
   "source": [
    "e=None"
   ]
  },
  {
   "cell_type": "code",
   "execution_count": 71,
   "id": "exact-dining",
   "metadata": {},
   "outputs": [
    {
     "data": {
      "text/plain": [
       "(NoneType, None)"
      ]
     },
     "execution_count": 71,
     "metadata": {},
     "output_type": "execute_result"
    }
   ],
   "source": [
    "type(e),e"
   ]
  },
  {
   "cell_type": "code",
   "execution_count": 72,
   "id": "interested-railway",
   "metadata": {},
   "outputs": [],
   "source": [
    "a=[4,5,6,87,74,54]"
   ]
  },
  {
   "cell_type": "code",
   "execution_count": 73,
   "id": "defined-andorra",
   "metadata": {},
   "outputs": [
    {
     "data": {
      "text/plain": [
       "(list, [4, 5, 6, 87, 74, 54])"
      ]
     },
     "execution_count": 73,
     "metadata": {},
     "output_type": "execute_result"
    }
   ],
   "source": [
    "type(a),a"
   ]
  },
  {
   "cell_type": "code",
   "execution_count": 74,
   "id": "decreased-failing",
   "metadata": {},
   "outputs": [],
   "source": [
    "l=35468463516548465165498322165498"
   ]
  },
  {
   "cell_type": "code",
   "execution_count": 75,
   "id": "macro-syntax",
   "metadata": {},
   "outputs": [
    {
     "data": {
      "text/plain": [
       "int"
      ]
     },
     "execution_count": 75,
     "metadata": {},
     "output_type": "execute_result"
    }
   ],
   "source": [
    "type(l)"
   ]
  },
  {
   "cell_type": "code",
   "execution_count": 76,
   "id": "prepared-darkness",
   "metadata": {},
   "outputs": [],
   "source": [
    "pi=3.14"
   ]
  },
  {
   "cell_type": "code",
   "execution_count": 77,
   "id": "seeing-forum",
   "metadata": {},
   "outputs": [
    {
     "data": {
      "text/plain": [
       "float"
      ]
     },
     "execution_count": 77,
     "metadata": {},
     "output_type": "execute_result"
    }
   ],
   "source": [
    "type(pi)"
   ]
  },
  {
   "cell_type": "code",
   "execution_count": 78,
   "id": "ready-fabric",
   "metadata": {},
   "outputs": [
    {
     "data": {
      "text/plain": [
       "3.14"
      ]
     },
     "execution_count": 78,
     "metadata": {},
     "output_type": "execute_result"
    }
   ],
   "source": [
    "pi"
   ]
  },
  {
   "cell_type": "code",
   "execution_count": 79,
   "id": "federal-baghdad",
   "metadata": {},
   "outputs": [
    {
     "data": {
      "text/plain": [
       "3"
      ]
     },
     "execution_count": 79,
     "metadata": {},
     "output_type": "execute_result"
    }
   ],
   "source": [
    "int(pi)"
   ]
  },
  {
   "cell_type": "code",
   "execution_count": 80,
   "id": "solved-mitchell",
   "metadata": {},
   "outputs": [
    {
     "data": {
      "text/plain": [
       "float"
      ]
     },
     "execution_count": 80,
     "metadata": {},
     "output_type": "execute_result"
    }
   ],
   "source": [
    "type(10/5)"
   ]
  },
  {
   "cell_type": "code",
   "execution_count": 81,
   "id": "japanese-deputy",
   "metadata": {},
   "outputs": [
    {
     "data": {
      "text/plain": [
       "int"
      ]
     },
     "execution_count": 81,
     "metadata": {},
     "output_type": "execute_result"
    }
   ],
   "source": [
    "type(10//5)"
   ]
  },
  {
   "cell_type": "code",
   "execution_count": 82,
   "id": "driven-motel",
   "metadata": {},
   "outputs": [
    {
     "data": {
      "text/plain": [
       "6"
      ]
     },
     "execution_count": 82,
     "metadata": {},
     "output_type": "execute_result"
    }
   ],
   "source": [
    "5+True"
   ]
  },
  {
   "cell_type": "code",
   "execution_count": 83,
   "id": "electronic-crawford",
   "metadata": {},
   "outputs": [
    {
     "data": {
      "text/plain": [
       "6"
      ]
     },
     "execution_count": 83,
     "metadata": {},
     "output_type": "execute_result"
    }
   ],
   "source": [
    "6+False"
   ]
  },
  {
   "cell_type": "code",
   "execution_count": 84,
   "id": "equivalent-century",
   "metadata": {},
   "outputs": [
    {
     "data": {
      "text/plain": [
       "54"
      ]
     },
     "execution_count": 84,
     "metadata": {},
     "output_type": "execute_result"
    }
   ],
   "source": [
    "35*False+54*True"
   ]
  },
  {
   "cell_type": "code",
   "execution_count": 85,
   "id": "supported-irish",
   "metadata": {},
   "outputs": [],
   "source": [
    "a=\"Meghalaya\""
   ]
  },
  {
   "cell_type": "code",
   "execution_count": 86,
   "id": "joined-freeze",
   "metadata": {},
   "outputs": [
    {
     "data": {
      "text/plain": [
       "('M', 'l', 'h')"
      ]
     },
     "execution_count": 86,
     "metadata": {},
     "output_type": "execute_result"
    }
   ],
   "source": [
    "a[0],a[5],a[3]"
   ]
  },
  {
   "cell_type": "code",
   "execution_count": 87,
   "id": "human-expansion",
   "metadata": {},
   "outputs": [
    {
     "data": {
      "text/plain": [
       "9"
      ]
     },
     "execution_count": 87,
     "metadata": {},
     "output_type": "execute_result"
    }
   ],
   "source": [
    "len(a)"
   ]
  },
  {
   "cell_type": "code",
   "execution_count": 88,
   "id": "european-block",
   "metadata": {},
   "outputs": [],
   "source": [
    "c=65498746"
   ]
  },
  {
   "cell_type": "code",
   "execution_count": 89,
   "id": "front-washington",
   "metadata": {},
   "outputs": [],
   "source": [
    "c+=10"
   ]
  },
  {
   "cell_type": "code",
   "execution_count": 90,
   "id": "active-treatment",
   "metadata": {},
   "outputs": [
    {
     "data": {
      "text/plain": [
       "65498756"
      ]
     },
     "execution_count": 90,
     "metadata": {},
     "output_type": "execute_result"
    }
   ],
   "source": [
    "c"
   ]
  },
  {
   "cell_type": "code",
   "execution_count": 91,
   "id": "intellectual-minneapolis",
   "metadata": {},
   "outputs": [],
   "source": [
    "first_name=\"Mandeep\""
   ]
  },
  {
   "cell_type": "code",
   "execution_count": 92,
   "id": "social-alpha",
   "metadata": {},
   "outputs": [],
   "source": [
    "last_name=\"Gupta\""
   ]
  },
  {
   "cell_type": "code",
   "execution_count": 93,
   "id": "great-debut",
   "metadata": {},
   "outputs": [],
   "source": [
    "name=first_name+\" \"+last_name"
   ]
  },
  {
   "cell_type": "code",
   "execution_count": 94,
   "id": "renewable-bunch",
   "metadata": {},
   "outputs": [
    {
     "data": {
      "text/plain": [
       "'MandeepGupta'"
      ]
     },
     "execution_count": 94,
     "metadata": {},
     "output_type": "execute_result"
    }
   ],
   "source": [
    "first_name+last_name"
   ]
  },
  {
   "cell_type": "code",
   "execution_count": 95,
   "id": "defined-shopper",
   "metadata": {},
   "outputs": [
    {
     "data": {
      "text/plain": [
       "'Mandeep Gupta'"
      ]
     },
     "execution_count": 95,
     "metadata": {},
     "output_type": "execute_result"
    }
   ],
   "source": [
    "name"
   ]
  },
  {
   "cell_type": "code",
   "execution_count": 96,
   "id": "protected-casting",
   "metadata": {},
   "outputs": [
    {
     "data": {
      "text/plain": [
       "'MANDEEP GUPTA'"
      ]
     },
     "execution_count": 96,
     "metadata": {},
     "output_type": "execute_result"
    }
   ],
   "source": [
    "name.upper()"
   ]
  },
  {
   "cell_type": "code",
   "execution_count": 97,
   "id": "individual-wound",
   "metadata": {},
   "outputs": [
    {
     "data": {
      "text/plain": [
       "'mandeep gupta'"
      ]
     },
     "execution_count": 97,
     "metadata": {},
     "output_type": "execute_result"
    }
   ],
   "source": [
    "name.lower()"
   ]
  },
  {
   "cell_type": "code",
   "execution_count": 98,
   "id": "mighty-spank",
   "metadata": {},
   "outputs": [
    {
     "data": {
      "text/plain": [
       "'Mandeep Gupta'"
      ]
     },
     "execution_count": 98,
     "metadata": {},
     "output_type": "execute_result"
    }
   ],
   "source": [
    "name\n"
   ]
  },
  {
   "cell_type": "code",
   "execution_count": 99,
   "id": "robust-helicopter",
   "metadata": {},
   "outputs": [],
   "source": [
    "name=name.replace(\"Gupta\",\"Kumar\")"
   ]
  },
  {
   "cell_type": "code",
   "execution_count": 100,
   "id": "allied-politics",
   "metadata": {},
   "outputs": [
    {
     "data": {
      "text/plain": [
       "'Mandeep Kumar'"
      ]
     },
     "execution_count": 100,
     "metadata": {},
     "output_type": "execute_result"
    }
   ],
   "source": [
    "name"
   ]
  },
  {
   "cell_type": "code",
   "execution_count": 101,
   "id": "correct-scholar",
   "metadata": {},
   "outputs": [],
   "source": [
    "f_name=\"Mandeep\"\n",
    "s_name=\"Dev\"\n",
    "about=\"\"\" This is {} and he is very intellient boy and his friend {} is also good.\"\"\"\n"
   ]
  },
  {
   "cell_type": "code",
   "execution_count": 102,
   "id": "binding-apple",
   "metadata": {},
   "outputs": [
    {
     "data": {
      "text/plain": [
       "' This is Mandeep and he is very intellient boy and his friend Dev is also good.'"
      ]
     },
     "execution_count": 102,
     "metadata": {},
     "output_type": "execute_result"
    }
   ],
   "source": [
    "about=about.format(f_name,s_name, {},{})\n",
    "about"
   ]
  },
  {
   "cell_type": "code",
   "execution_count": 103,
   "id": "sound-spanking",
   "metadata": {},
   "outputs": [],
   "source": [
    "a=[1.54,45,\"joy\",True,524684641687764]"
   ]
  },
  {
   "cell_type": "code",
   "execution_count": 104,
   "id": "durable-section",
   "metadata": {},
   "outputs": [],
   "source": [
    "b=a"
   ]
  },
  {
   "cell_type": "code",
   "execution_count": 105,
   "id": "administrative-publisher",
   "metadata": {},
   "outputs": [
    {
     "data": {
      "text/plain": [
       "type"
      ]
     },
     "execution_count": 105,
     "metadata": {},
     "output_type": "execute_result"
    }
   ],
   "source": [
    "type"
   ]
  },
  {
   "cell_type": "code",
   "execution_count": 106,
   "id": "adapted-format",
   "metadata": {},
   "outputs": [
    {
     "data": {
      "text/plain": [
       "list"
      ]
     },
     "execution_count": 106,
     "metadata": {},
     "output_type": "execute_result"
    }
   ],
   "source": [
    "type(a)"
   ]
  },
  {
   "cell_type": "code",
   "execution_count": 107,
   "id": "confused-banana",
   "metadata": {},
   "outputs": [
    {
     "data": {
      "text/plain": [
       "'joy'"
      ]
     },
     "execution_count": 107,
     "metadata": {},
     "output_type": "execute_result"
    }
   ],
   "source": [
    "a[2]"
   ]
  },
  {
   "cell_type": "code",
   "execution_count": 108,
   "id": "varying-cooperation",
   "metadata": {},
   "outputs": [
    {
     "data": {
      "text/plain": [
       "524684641687764"
      ]
     },
     "execution_count": 108,
     "metadata": {},
     "output_type": "execute_result"
    }
   ],
   "source": [
    "a[-1]"
   ]
  },
  {
   "cell_type": "code",
   "execution_count": 109,
   "id": "appreciated-donor",
   "metadata": {},
   "outputs": [],
   "source": [
    "a.append(\"jnfviuer\")"
   ]
  },
  {
   "cell_type": "code",
   "execution_count": 110,
   "id": "global-blackjack",
   "metadata": {},
   "outputs": [
    {
     "data": {
      "text/plain": [
       "[1.54, 45, 'joy', True, 524684641687764, 'jnfviuer']"
      ]
     },
     "execution_count": 110,
     "metadata": {},
     "output_type": "execute_result"
    }
   ],
   "source": [
    "a"
   ]
  },
  {
   "cell_type": "code",
   "execution_count": null,
   "id": "simple-interval",
   "metadata": {},
   "outputs": [],
   "source": []
  },
  {
   "cell_type": "code",
   "execution_count": null,
   "id": "crude-potter",
   "metadata": {},
   "outputs": [],
   "source": []
  },
  {
   "cell_type": "code",
   "execution_count": 111,
   "id": "turkish-remedy",
   "metadata": {
    "scrolled": true
   },
   "outputs": [
    {
     "data": {
      "text/plain": [
       "[1.54, 45, 'joy', True, 524684641687764, 'jnfviuer']"
      ]
     },
     "execution_count": 111,
     "metadata": {},
     "output_type": "execute_result"
    }
   ],
   "source": [
    "a"
   ]
  },
  {
   "cell_type": "code",
   "execution_count": 112,
   "id": "vital-criticism",
   "metadata": {},
   "outputs": [],
   "source": [
    "b=[\"lk\",6354.354,6354684,True,False,\"joy\"]"
   ]
  },
  {
   "cell_type": "code",
   "execution_count": 113,
   "id": "abroad-sapphire",
   "metadata": {},
   "outputs": [
    {
     "data": {
      "text/plain": [
       "[1.54, 45, 'joy', True, 524684641687764, 'jnfviuer']"
      ]
     },
     "execution_count": 113,
     "metadata": {},
     "output_type": "execute_result"
    }
   ],
   "source": [
    "a"
   ]
  },
  {
   "cell_type": "code",
   "execution_count": 114,
   "id": "medium-landing",
   "metadata": {},
   "outputs": [
    {
     "data": {
      "text/plain": [
       "'joy'"
      ]
     },
     "execution_count": 114,
     "metadata": {},
     "output_type": "execute_result"
    }
   ],
   "source": [
    "b.pop()"
   ]
  },
  {
   "cell_type": "code",
   "execution_count": 115,
   "id": "graphic-taiwan",
   "metadata": {},
   "outputs": [
    {
     "data": {
      "text/plain": [
       "[1.54, 45, 'joy', True, 524684641687764, 'jnfviuer']"
      ]
     },
     "execution_count": 115,
     "metadata": {},
     "output_type": "execute_result"
    }
   ],
   "source": [
    "a"
   ]
  },
  {
   "cell_type": "code",
   "execution_count": 116,
   "id": "varying-fifteen",
   "metadata": {},
   "outputs": [
    {
     "data": {
      "text/plain": [
       "['lk', 6354.354, 6354684, True, False]"
      ]
     },
     "execution_count": 116,
     "metadata": {},
     "output_type": "execute_result"
    }
   ],
   "source": [
    "b"
   ]
  },
  {
   "cell_type": "code",
   "execution_count": 117,
   "id": "isolated-andorra",
   "metadata": {},
   "outputs": [],
   "source": [
    "b.append(\"sdkfb\")"
   ]
  },
  {
   "cell_type": "code",
   "execution_count": 118,
   "id": "nutritional-dimension",
   "metadata": {},
   "outputs": [
    {
     "data": {
      "text/plain": [
       "['lk', 6354.354, 6354684, True, False, 'sdkfb']"
      ]
     },
     "execution_count": 118,
     "metadata": {},
     "output_type": "execute_result"
    }
   ],
   "source": [
    "b"
   ]
  },
  {
   "cell_type": "code",
   "execution_count": 119,
   "id": "protected-meter",
   "metadata": {},
   "outputs": [
    {
     "data": {
      "text/plain": [
       "'sdkfb'"
      ]
     },
     "execution_count": 119,
     "metadata": {},
     "output_type": "execute_result"
    }
   ],
   "source": [
    "b.pop()"
   ]
  },
  {
   "cell_type": "markdown",
   "id": "agreed-stroke",
   "metadata": {},
   "source": [
    "# Tuple"
   ]
  },
  {
   "cell_type": "code",
   "execution_count": 120,
   "id": "expressed-cannon",
   "metadata": {},
   "outputs": [],
   "source": [
    "a=(321.23,6548,True,False,\"Mandeep\",\"Joy\")"
   ]
  },
  {
   "cell_type": "code",
   "execution_count": 121,
   "id": "sharp-census",
   "metadata": {},
   "outputs": [
    {
     "data": {
      "text/plain": [
       "(321.23, 6548, True, False, 'Mandeep', 'Joy')"
      ]
     },
     "execution_count": 121,
     "metadata": {},
     "output_type": "execute_result"
    }
   ],
   "source": [
    "a"
   ]
  },
  {
   "cell_type": "code",
   "execution_count": null,
   "id": "mineral-packing",
   "metadata": {},
   "outputs": [],
   "source": []
  },
  {
   "cell_type": "code",
   "execution_count": null,
   "id": "tribal-jacket",
   "metadata": {},
   "outputs": [],
   "source": []
  },
  {
   "cell_type": "code",
   "execution_count": 122,
   "id": "characteristic-replica",
   "metadata": {},
   "outputs": [],
   "source": [
    "b=\"Mandeep\",\"jOY\",\"JACK\""
   ]
  },
  {
   "cell_type": "code",
   "execution_count": 123,
   "id": "linear-hayes",
   "metadata": {},
   "outputs": [
    {
     "data": {
      "text/plain": [
       "tuple"
      ]
     },
     "execution_count": 123,
     "metadata": {},
     "output_type": "execute_result"
    }
   ],
   "source": [
    "type(b)"
   ]
  },
  {
   "cell_type": "code",
   "execution_count": 124,
   "id": "respiratory-senegal",
   "metadata": {},
   "outputs": [
    {
     "data": {
      "text/plain": [
       "('Mandeep', 'jOY', 'JACK')"
      ]
     },
     "execution_count": 124,
     "metadata": {},
     "output_type": "execute_result"
    }
   ],
   "source": [
    "b\n"
   ]
  },
  {
   "cell_type": "markdown",
   "id": "welsh-context",
   "metadata": {},
   "source": [
    "# Dictionary"
   ]
  },
  {
   "cell_type": "code",
   "execution_count": 125,
   "id": "fleet-liverpool",
   "metadata": {},
   "outputs": [],
   "source": [
    "about={\n",
    "    'name':'Mandeep Gupta',\n",
    "     'Gender':'Male',\n",
    "    'age':18,\n",
    "    'Married':False\n",
    "}"
   ]
  },
  {
   "cell_type": "code",
   "execution_count": 126,
   "id": "accomplished-fight",
   "metadata": {},
   "outputs": [
    {
     "data": {
      "text/plain": [
       "{'name': 'Mandeep Gupta', 'Gender': 'Male', 'age': 18, 'Married': False}"
      ]
     },
     "execution_count": 126,
     "metadata": {},
     "output_type": "execute_result"
    }
   ],
   "source": [
    "about"
   ]
  },
  {
   "cell_type": "code",
   "execution_count": 127,
   "id": "formal-measurement",
   "metadata": {},
   "outputs": [
    {
     "data": {
      "text/plain": [
       "dict"
      ]
     },
     "execution_count": 127,
     "metadata": {},
     "output_type": "execute_result"
    }
   ],
   "source": [
    "type(about\n",
    "    )"
   ]
  },
  {
   "cell_type": "code",
   "execution_count": 128,
   "id": "unexpected-zambia",
   "metadata": {},
   "outputs": [],
   "source": [
    "About=dict(name=\"Mandeep\",age=18,Sex=\"Male\",Degree=\"Btech\")"
   ]
  },
  {
   "cell_type": "code",
   "execution_count": 129,
   "id": "identical-ideal",
   "metadata": {},
   "outputs": [
    {
     "data": {
      "text/plain": [
       "{'name': 'Mandeep', 'age': 18, 'Sex': 'Male', 'Degree': 'Btech'}"
      ]
     },
     "execution_count": 129,
     "metadata": {},
     "output_type": "execute_result"
    }
   ],
   "source": [
    "About"
   ]
  },
  {
   "cell_type": "code",
   "execution_count": 130,
   "id": "appreciated-pennsylvania",
   "metadata": {},
   "outputs": [
    {
     "data": {
      "text/plain": [
       "dict"
      ]
     },
     "execution_count": 130,
     "metadata": {},
     "output_type": "execute_result"
    }
   ],
   "source": [
    "type(About)"
   ]
  },
  {
   "cell_type": "code",
   "execution_count": 131,
   "id": "improved-upper",
   "metadata": {},
   "outputs": [
    {
     "data": {
      "text/plain": [
       "'Mandeep'"
      ]
     },
     "execution_count": 131,
     "metadata": {},
     "output_type": "execute_result"
    }
   ],
   "source": [
    "About['name']"
   ]
  },
  {
   "cell_type": "code",
   "execution_count": 132,
   "id": "missing-buffalo",
   "metadata": {},
   "outputs": [
    {
     "data": {
      "text/plain": [
       "'Mandeep Gupta'"
      ]
     },
     "execution_count": 132,
     "metadata": {},
     "output_type": "execute_result"
    }
   ],
   "source": [
    "about['name']"
   ]
  },
  {
   "cell_type": "code",
   "execution_count": 133,
   "id": "adopted-couple",
   "metadata": {},
   "outputs": [
    {
     "data": {
      "text/plain": [
       "18"
      ]
     },
     "execution_count": 133,
     "metadata": {},
     "output_type": "execute_result"
    }
   ],
   "source": [
    "about['age']"
   ]
  },
  {
   "cell_type": "code",
   "execution_count": 134,
   "id": "significant-bullet",
   "metadata": {},
   "outputs": [
    {
     "data": {
      "text/plain": [
       "'Male'"
      ]
     },
     "execution_count": 134,
     "metadata": {},
     "output_type": "execute_result"
    }
   ],
   "source": [
    "About['Sex']"
   ]
  },
  {
   "cell_type": "code",
   "execution_count": null,
   "id": "robust-function",
   "metadata": {},
   "outputs": [],
   "source": []
  },
  {
   "cell_type": "code",
   "execution_count": 136,
   "id": "atomic-superintendent",
   "metadata": {},
   "outputs": [
    {
     "data": {
      "text/plain": [
       "'Btech'"
      ]
     },
     "execution_count": 136,
     "metadata": {},
     "output_type": "execute_result"
    }
   ],
   "source": [
    "About['Degree']"
   ]
  },
  {
   "cell_type": "code",
   "execution_count": 137,
   "id": "departmental-revelation",
   "metadata": {},
   "outputs": [],
   "source": [
    "About['name']=\"Mandeep Kumar Gupta\""
   ]
  },
  {
   "cell_type": "code",
   "execution_count": 138,
   "id": "aquatic-acting",
   "metadata": {},
   "outputs": [
    {
     "data": {
      "text/plain": [
       "{'name': 'Mandeep Kumar Gupta', 'age': 18, 'Sex': 'Male', 'Degree': 'Btech'}"
      ]
     },
     "execution_count": 138,
     "metadata": {},
     "output_type": "execute_result"
    }
   ],
   "source": [
    "About"
   ]
  },
  {
   "cell_type": "code",
   "execution_count": 139,
   "id": "criminal-verification",
   "metadata": {},
   "outputs": [],
   "source": [
    "About['Dream Job']=\"Google\""
   ]
  },
  {
   "cell_type": "code",
   "execution_count": 140,
   "id": "elementary-above",
   "metadata": {},
   "outputs": [
    {
     "data": {
      "text/plain": [
       "{'name': 'Mandeep Kumar Gupta',\n",
       " 'age': 18,\n",
       " 'Sex': 'Male',\n",
       " 'Degree': 'Btech',\n",
       " 'Dream Job': 'Google'}"
      ]
     },
     "execution_count": 140,
     "metadata": {},
     "output_type": "execute_result"
    }
   ],
   "source": [
    "About"
   ]
  },
  {
   "cell_type": "code",
   "execution_count": 141,
   "id": "willing-happiness",
   "metadata": {},
   "outputs": [
    {
     "data": {
      "text/plain": [
       "dict_keys(['name', 'age', 'Sex', 'Degree', 'Dream Job'])"
      ]
     },
     "execution_count": 141,
     "metadata": {},
     "output_type": "execute_result"
    }
   ],
   "source": [
    "About.keys()"
   ]
  },
  {
   "cell_type": "code",
   "execution_count": 142,
   "id": "nonprofit-resort",
   "metadata": {},
   "outputs": [
    {
     "data": {
      "text/plain": [
       "dict_values(['Mandeep Kumar Gupta', 18, 'Male', 'Btech', 'Google'])"
      ]
     },
     "execution_count": 142,
     "metadata": {},
     "output_type": "execute_result"
    }
   ],
   "source": [
    "About.values()"
   ]
  },
  {
   "cell_type": "code",
   "execution_count": 143,
   "id": "compliant-republic",
   "metadata": {},
   "outputs": [
    {
     "data": {
      "text/plain": [
       "dict_items([('name', 'Mandeep Kumar Gupta'), ('age', 18), ('Sex', 'Male'), ('Degree', 'Btech'), ('Dream Job', 'Google')])"
      ]
     },
     "execution_count": 143,
     "metadata": {},
     "output_type": "execute_result"
    }
   ],
   "source": [
    "About.items()"
   ]
  },
  {
   "cell_type": "code",
   "execution_count": 144,
   "id": "bound-paintball",
   "metadata": {},
   "outputs": [
    {
     "ename": "TypeError",
     "evalue": "'dict_items' object is not subscriptable",
     "output_type": "error",
     "traceback": [
      "\u001b[1;31m---------------------------------------------------------------------------\u001b[0m",
      "\u001b[1;31mTypeError\u001b[0m                                 Traceback (most recent call last)",
      "\u001b[1;32m<ipython-input-144-82bfffa9db74>\u001b[0m in \u001b[0;36m<module>\u001b[1;34m\u001b[0m\n\u001b[1;32m----> 1\u001b[1;33m \u001b[0mAbout\u001b[0m\u001b[1;33m.\u001b[0m\u001b[0mitems\u001b[0m\u001b[1;33m(\u001b[0m\u001b[1;33m)\u001b[0m\u001b[1;33m[\u001b[0m\u001b[1;36m1\u001b[0m\u001b[1;33m]\u001b[0m\u001b[1;33m\u001b[0m\u001b[1;33m\u001b[0m\u001b[0m\n\u001b[0m",
      "\u001b[1;31mTypeError\u001b[0m: 'dict_items' object is not subscriptable"
     ]
    }
   ],
   "source": [
    "About.items()[1]"
   ]
  },
  {
   "cell_type": "markdown",
   "id": "hearing-mounting",
   "metadata": {},
   "source": [
    "# if ,else and elif"
   ]
  },
  {
   "cell_type": "code",
   "execution_count": 145,
   "id": "crazy-worship",
   "metadata": {},
   "outputs": [
    {
     "name": "stdout",
     "output_type": "stream",
     "text": [
      "54 is Even Number\n"
     ]
    }
   ],
   "source": [
    "n=54\n",
    "if(n%2==0):\n",
    "    print(n,\"is Even Number\")\n",
    "else:\n",
    "    print(n,\"is odd Number\")"
   ]
  },
  {
   "cell_type": "code",
   "execution_count": 146,
   "id": "norman-miracle",
   "metadata": {},
   "outputs": [
    {
     "name": "stdout",
     "output_type": "stream",
     "text": [
      "This person is adult\n"
     ]
    }
   ],
   "source": [
    "n=48\n",
    "if(n>50):\n",
    "    print(\"This person is young\")\n",
    "elif(n>18):\n",
    "    print(\"This person is adult\")\n",
    "else:\n",
    "    print(\"This person is Child\")"
   ]
  },
  {
   "cell_type": "code",
   "execution_count": 147,
   "id": "religious-perception",
   "metadata": {},
   "outputs": [],
   "source": [
    "today=\"wednesday\""
   ]
  },
  {
   "cell_type": "code",
   "execution_count": 148,
   "id": "hearing-librarian",
   "metadata": {},
   "outputs": [
    {
     "name": "stdout",
     "output_type": "stream",
     "text": [
      "Today is Wednesday\n"
     ]
    }
   ],
   "source": [
    "if(today==\"sunday\"):\n",
    "    print(\"Today is sunday\")\n",
    "elif(today==\"monday\"):\n",
    "    print(\"Today is Monday\")\n",
    "elif(today==\"tuesday\"):\n",
    "    print(\"Today is Tuesday\")\n",
    "elif(today==\"wednesday\"):\n",
    "    print(\"Today is Wednesday\")\n",
    "elif(today==\"thursday\"):\n",
    "    print(\"Today is Thursday\")\n",
    "elif(today==\"friday\"):\n",
    "    print(\"Today is Friday\")\n",
    "elif(today==\"saturday\"):\n",
    "    print(\"Today is Saturday\")"
   ]
  },
  {
   "cell_type": "code",
   "execution_count": 149,
   "id": "stylish-pound",
   "metadata": {},
   "outputs": [
    {
     "name": "stdout",
     "output_type": "stream",
     "text": [
      "54 is divisible by 2\n"
     ]
    }
   ],
   "source": [
    "a=54\n",
    "if(a%2==0):\n",
    "    print(\"{} is divisible by 2\".format(a))\n",
    "elif(a%3==0):\n",
    "    print(\"{} is divisible by 3\".format(a))\n",
    "elif(a%5==0):\n",
    "    print(\"{} is divisible by 5\".format(a))\n",
    "elif(a%7==0):\n",
    "    print(\"{} is divisible by 7\".format(a))"
   ]
  },
  {
   "cell_type": "code",
   "execution_count": 150,
   "id": "waiting-nirvana",
   "metadata": {},
   "outputs": [
    {
     "name": "stdout",
     "output_type": "stream",
     "text": [
      "54 is divisible by 2\n",
      "54 is divisible by 3\n"
     ]
    }
   ],
   "source": [
    "a=54\n",
    "if(a%2==0):\n",
    "    print(\"{} is divisible by 2\".format(a))\n",
    "if(a%3==0):\n",
    "    print(\"{} is divisible by 3\".format(a))\n",
    "if(a%5==0):\n",
    "    print(\"{} is divisible by 5\".format(a))\n",
    "if(a%7==0):\n",
    "    print(\"{} is divisible by 7\".format(a))"
   ]
  },
  {
   "cell_type": "code",
   "execution_count": 151,
   "id": "unsigned-uncle",
   "metadata": {},
   "outputs": [
    {
     "name": "stdout",
     "output_type": "stream",
     "text": [
      "False\n"
     ]
    }
   ],
   "source": [
    "if(54>180  and 87>54):\n",
    "    print(\"True\")\n",
    "else:\n",
    "    print(\"False\")"
   ]
  },
  {
   "cell_type": "code",
   "execution_count": 152,
   "id": "legitimate-charleston",
   "metadata": {},
   "outputs": [
    {
     "name": "stdout",
     "output_type": "stream",
     "text": [
      "false\n"
     ]
    }
   ],
   "source": [
    "if(5%2==0):\n",
    "    pass\n",
    "else:\n",
    "    print(\"false\")"
   ]
  },
  {
   "cell_type": "code",
   "execution_count": 153,
   "id": "beautiful-ownership",
   "metadata": {},
   "outputs": [],
   "source": [
    "if(54%2==0):\n",
    "    pass\n",
    "else:\n",
    "    print(\"false\")"
   ]
  },
  {
   "cell_type": "code",
   "execution_count": 154,
   "id": "recreational-tribute",
   "metadata": {},
   "outputs": [
    {
     "name": "stdout",
     "output_type": "stream",
     "text": [
      "5\n",
      "10\n",
      "15\n",
      "20\n",
      "25\n",
      "30\n",
      "35\n",
      "40\n",
      "45\n",
      "50\n"
     ]
    }
   ],
   "source": [
    "n=5\n",
    "for i in range(1,11):\n",
    "    print(n*i)"
   ]
  },
  {
   "cell_type": "code",
   "execution_count": 157,
   "id": "returning-coordination",
   "metadata": {},
   "outputs": [
    {
     "name": "stdout",
     "output_type": "stream",
     "text": [
      "87 86 85 84 83 82 81 80 79 78 77 76 75 74 73 72 71 70 69 68 67 66 65 64 63 62 61 60 59 58 57 56 55 54 53 52 51 50 49 48 47 46 45 44 43 42 41 40 39 38 37 36 35 34 33 32 31 30 29 28 27 26 25 24 23 22 21 20 19 18 17 16 15 14 13 12 11 10 9 8 7 6 5 4 3 2 1 "
     ]
    }
   ],
   "source": [
    "n=m=87\n",
    "while(n>0):\n",
    "    print(n,end=\" \")\n",
    "    n=n-1\n",
    "    \n",
    "    "
   ]
  },
  {
   "cell_type": "code",
   "execution_count": 160,
   "id": "vertical-pakistan",
   "metadata": {},
   "outputs": [
    {
     "name": "stdout",
     "output_type": "stream",
     "text": [
      "402387260077093773543702433923003985719374864210714632543799910429938512398629020592044208486969404800479988610197196058631666872994808558901323829669944590997424504087073759918823627727188732519779505950995276120874975462497043601418278094646496291056393887437886487337119181045825783647849977012476632889835955735432513185323958463075557409114262417474349347553428646576611667797396668820291207379143853719588249808126867838374559731746136085379534524221586593201928090878297308431392844403281231558611036976801357304216168747609675871348312025478589320767169132448426236131412508780208000261683151027341827977704784635868170164365024153691398281264810213092761244896359928705114964975419909342221566832572080821333186116811553615836546984046708975602900950537616475847728421889679646244945160765353408198901385442487984959953319101723355556602139450399736280750137837615307127761926849034352625200015888535147331611702103968175921510907788019393178114194545257223865541461062892187960223838971476088506276862967146674697562911234082439208160153780889893964518263243671616762179168909779911903754031274622289988005195444414282012187361745992642956581746628302955570299024324153181617210465832036786906117260158783520751516284225540265170483304226143974286933061690897968482590125458327168226458066526769958652682272807075781391858178889652208164348344825993266043367660176999612831860788386150279465955131156552036093988180612138558600301435694527224206344631797460594682573103790084024432438465657245014402821885252470935190620929023136493273497565513958720559654228749774011413346962715422845862377387538230483865688976461927383814900140767310446640259899490222221765904339901886018566526485061799702356193897017860040811889729918311021171229845901641921068884387121855646124960798722908519296819372388642614839657382291123125024186649353143970137428531926649875337218940694281434118520158014123344828015051399694290153483077644569099073152433278288269864602789864321139083506217095002597389863554277196742822248757586765752344220207573630569498825087968928162753848863396909959826280956121450994871701244516461260379029309120889086942028510640182154399457156805941872748998094254742173582401063677404595741785160829230135358081840096996372524230560855903700624271243416909004153690105933983835777939410970027753472000000000000000000000000000000000000000000000000000000000000000000000000000000000000000000000000000000000000000000000000000000000000000000000000000000000000000000000000000000000000000000000000000000000000000000000000000000000000000000000000000000000\n"
     ]
    }
   ],
   "source": [
    "m=1\n",
    "result=1\n",
    "while(m<1001):\n",
    "    result=result*m\n",
    "    m=m+1\n",
    "print(result)"
   ]
  },
  {
   "cell_type": "code",
   "execution_count": 169,
   "id": "approximate-cabin",
   "metadata": {},
   "outputs": [
    {
     "name": "stdout",
     "output_type": "stream",
     "text": [
      "\n",
      "*\n",
      "**\n",
      "***\n",
      "****\n",
      "*****\n",
      "******\n",
      "*******\n",
      "********\n",
      "*********\n",
      "**********\n",
      "*********\n",
      "********\n",
      "*******\n",
      "******\n",
      "*****\n",
      "****\n",
      "***\n",
      "**\n",
      "*\n"
     ]
    }
   ],
   "source": [
    "n=10\n",
    "for i in range(n):\n",
    "    for j in range(i):\n",
    "        print(\"*\",end=\"\")\n",
    "    print()\n",
    "for i in range(n):\n",
    "    print(\"*\",end=\"\")\n",
    "print()\n",
    "for i in range(1,n):\n",
    "    for j in range(n-i):\n",
    "        print(\"*\",end=\"\")\n",
    "    print()"
   ]
  },
  {
   "cell_type": "code",
   "execution_count": 173,
   "id": "capable-plant",
   "metadata": {},
   "outputs": [
    {
     "name": "stdout",
     "output_type": "stream",
     "text": [
      "         *\n",
      "        **\n",
      "       ***\n",
      "      ****\n",
      "     *****\n",
      "    ******\n",
      "   *******\n",
      "  ********\n",
      " *********\n",
      "**********\n",
      " *********\n",
      "  ********\n",
      "   *******\n",
      "    ******\n",
      "     *****\n",
      "      ****\n",
      "       ***\n",
      "        **\n",
      "         *\n"
     ]
    }
   ],
   "source": [
    "n=10\n",
    "for i in range(1,n+1):\n",
    "    for j in range(n-i):\n",
    "        print(\" \",end=\"\")\n",
    "    for k in range(i):\n",
    "        print(\"*\",end=\"\")\n",
    "    print()\n",
    "for i in range(1,n):\n",
    "    for j in range(i):\n",
    "        print(\" \",end=\"\")\n",
    "    for k in range(n-i):\n",
    "        print(\"*\",end=\"\")\n",
    "    print()\n"
   ]
  },
  {
   "cell_type": "code",
   "execution_count": null,
   "id": "moved-influence",
   "metadata": {},
   "outputs": [],
   "source": []
  }
 ],
 "metadata": {
  "kernelspec": {
   "display_name": "Python 3",
   "language": "python",
   "name": "python3"
  },
  "language_info": {
   "codemirror_mode": {
    "name": "ipython",
    "version": 3
   },
   "file_extension": ".py",
   "mimetype": "text/x-python",
   "name": "python",
   "nbconvert_exporter": "python",
   "pygments_lexer": "ipython3",
   "version": "3.9.2"
  }
 },
 "nbformat": 4,
 "nbformat_minor": 5
}
