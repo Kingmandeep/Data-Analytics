{
 "cells": [
  {
   "cell_type": "code",
   "execution_count": 1,
   "id": "headed-anthropology",
   "metadata": {},
   "outputs": [],
   "source": [
    "import math"
   ]
  },
  {
   "cell_type": "code",
   "execution_count": 2,
   "id": "prompt-hours",
   "metadata": {},
   "outputs": [
    {
     "name": "stdout",
     "output_type": "stream",
     "text": [
      "Help on built-in function ceil in module math:\n",
      "\n",
      "ceil(x, /)\n",
      "    Return the ceiling of x as an Integral.\n",
      "    \n",
      "    This is the smallest integer >= x.\n",
      "\n"
     ]
    }
   ],
   "source": [
    "help(math.ceil)"
   ]
  },
  {
   "cell_type": "code",
   "execution_count": 3,
   "id": "natural-commerce",
   "metadata": {},
   "outputs": [
    {
     "data": {
      "text/plain": [
       "2"
      ]
     },
     "execution_count": 3,
     "metadata": {},
     "output_type": "execute_result"
    }
   ],
   "source": [
    "math.ceil(1.2)"
   ]
  },
  {
   "cell_type": "code",
   "execution_count": 4,
   "id": "antique-condition",
   "metadata": {},
   "outputs": [
    {
     "data": {
      "text/plain": [
       "2"
      ]
     },
     "execution_count": 4,
     "metadata": {},
     "output_type": "execute_result"
    }
   ],
   "source": [
    "math.ceil(1.8)"
   ]
  },
  {
   "cell_type": "code",
   "execution_count": 5,
   "id": "human-instruction",
   "metadata": {},
   "outputs": [
    {
     "data": {
      "text/plain": [
       "3"
      ]
     },
     "execution_count": 5,
     "metadata": {},
     "output_type": "execute_result"
    }
   ],
   "source": [
    "math.ceil(2.4)"
   ]
  },
  {
   "cell_type": "code",
   "execution_count": 6,
   "id": "guided-netherlands",
   "metadata": {},
   "outputs": [
    {
     "data": {
      "text/plain": [
       "2"
      ]
     },
     "execution_count": 6,
     "metadata": {},
     "output_type": "execute_result"
    }
   ],
   "source": [
    "math.ceil(2.0)"
   ]
  },
  {
   "cell_type": "code",
   "execution_count": 7,
   "id": "abandoned-gibraltar",
   "metadata": {},
   "outputs": [
    {
     "data": {
      "text/plain": [
       "3"
      ]
     },
     "execution_count": 7,
     "metadata": {},
     "output_type": "execute_result"
    }
   ],
   "source": [
    "math.ceil(2.1)"
   ]
  },
  {
   "cell_type": "code",
   "execution_count": 8,
   "id": "molecular-gamma",
   "metadata": {},
   "outputs": [
    {
     "data": {
      "text/plain": [
       "3"
      ]
     },
     "execution_count": 8,
     "metadata": {},
     "output_type": "execute_result"
    }
   ],
   "source": [
    "math.ceil(2.8)"
   ]
  },
  {
   "cell_type": "code",
   "execution_count": 9,
   "id": "failing-heavy",
   "metadata": {},
   "outputs": [],
   "source": [
    "def loan_emi(amount,duration,rate,down_payment=0):\n",
    "    loan_amount=amount-down_payment\n",
    "    emi=loan_amount*rate*((1+rate)**duration)/(((1+rate)**duration)-1)\n",
    "    emi=math.ceil(emi)\n",
    "    return emi"
   ]
  },
  {
   "cell_type": "code",
   "execution_count": 10,
   "id": "continued-istanbul",
   "metadata": {},
   "outputs": [],
   "source": [
    "emi1=loan_emi(1260000,8*12,.1/12,3e5)"
   ]
  },
  {
   "cell_type": "code",
   "execution_count": 11,
   "id": "straight-ratio",
   "metadata": {},
   "outputs": [],
   "source": [
    "emi2=loan_emi(1260000,10*12,0.08/12)"
   ]
  },
  {
   "cell_type": "code",
   "execution_count": 12,
   "id": "invalid-skirt",
   "metadata": {},
   "outputs": [
    {
     "data": {
      "text/plain": [
       "14568"
      ]
     },
     "execution_count": 12,
     "metadata": {},
     "output_type": "execute_result"
    }
   ],
   "source": [
    "emi1"
   ]
  },
  {
   "cell_type": "code",
   "execution_count": 13,
   "id": "figured-generation",
   "metadata": {},
   "outputs": [
    {
     "data": {
      "text/plain": [
       "15288"
      ]
     },
     "execution_count": 13,
     "metadata": {},
     "output_type": "execute_result"
    }
   ],
   "source": [
    "emi2"
   ]
  },
  {
   "cell_type": "code",
   "execution_count": 14,
   "id": "clean-fundamental",
   "metadata": {},
   "outputs": [
    {
     "name": "stdout",
     "output_type": "stream",
     "text": [
      "Option 1 has the lower EMI: $14568\n"
     ]
    }
   ],
   "source": [
    "if(emi1<emi2):\n",
    "    print(\"Option 1 has the lower EMI: ${}\".format(emi1))\n",
    "else:\n",
    "    print(\"Option 2 has the lower EMI: ${}\".format(emi2))"
   ]
  },
  {
   "cell_type": "code",
   "execution_count": 15,
   "id": "becoming-title",
   "metadata": {},
   "outputs": [],
   "source": [
    "def loan_emi_of_shaun_house(amount,rate,duration,down_payment):\n",
    "    loan_amount=amount-amount*down_payment\n",
    "    emi=loan_amount*rate*((1+rate)**duration)/(((1+rate)**duration)-1)\n",
    "    emi=math.ceil(emi)\n",
    "    return emi"
   ]
  },
  {
   "cell_type": "code",
   "execution_count": 16,
   "id": "secondary-advertiser",
   "metadata": {},
   "outputs": [],
   "source": [
    "emi1=loan_emi_of_shaun_house(800000,.07/12,6*12,.25)"
   ]
  },
  {
   "cell_type": "code",
   "execution_count": 17,
   "id": "cheap-generic",
   "metadata": {},
   "outputs": [
    {
     "data": {
      "text/plain": [
       "10230"
      ]
     },
     "execution_count": 17,
     "metadata": {},
     "output_type": "execute_result"
    }
   ],
   "source": [
    "emi1"
   ]
  },
  {
   "cell_type": "code",
   "execution_count": 18,
   "id": "selected-chance",
   "metadata": {},
   "outputs": [],
   "source": [
    "def loan_emi_of_shaun_car(amount,rate,duration,down_payment=0):\n",
    "    loan_amount=amount-amount*down_payment\n",
    "    emi=loan_amount*rate*((1+rate)**duration)/(((1+rate)**duration)-1)\n",
    "    emi=math.ceil(emi)\n",
    "    return emi"
   ]
  },
  {
   "cell_type": "code",
   "execution_count": 19,
   "id": "blocked-alliance",
   "metadata": {},
   "outputs": [],
   "source": [
    "emi2=loan_emi_of_shaun_car(60000,.12/12,12)"
   ]
  },
  {
   "cell_type": "code",
   "execution_count": 20,
   "id": "comparable-birmingham",
   "metadata": {},
   "outputs": [
    {
     "data": {
      "text/plain": [
       "5331"
      ]
     },
     "execution_count": 20,
     "metadata": {},
     "output_type": "execute_result"
    }
   ],
   "source": [
    "emi2"
   ]
  },
  {
   "cell_type": "code",
   "execution_count": 21,
   "id": "genetic-standing",
   "metadata": {},
   "outputs": [],
   "source": [
    "emi=emi1+emi2"
   ]
  },
  {
   "cell_type": "code",
   "execution_count": 22,
   "id": "danish-temple",
   "metadata": {},
   "outputs": [
    {
     "data": {
      "text/plain": [
       "15561"
      ]
     },
     "execution_count": 22,
     "metadata": {},
     "output_type": "execute_result"
    }
   ],
   "source": [
    "emi"
   ]
  },
  {
   "cell_type": "code",
   "execution_count": 23,
   "id": "desperate-vocabulary",
   "metadata": {},
   "outputs": [],
   "source": [
    "def loan_borrow(amount,rate,duration):\n",
    "    try:\n",
    "        emi=amount*rate*((1+rate)**duration)/(((1+rate)**duration) -1)\n",
    "    except ZeroDivisionError:\n",
    "        emi=amount/duration\n",
    "    emi=math.ceil(emi)\n",
    "    return emi"
   ]
  },
  {
   "cell_type": "code",
   "execution_count": 24,
   "id": "pending-toolbox",
   "metadata": {},
   "outputs": [],
   "source": [
    "emi1=loan_borrow(100000,0.09/12,10*12)"
   ]
  },
  {
   "cell_type": "code",
   "execution_count": 25,
   "id": "employed-brunswick",
   "metadata": {},
   "outputs": [
    {
     "data": {
      "text/plain": [
       "1267"
      ]
     },
     "execution_count": 25,
     "metadata": {},
     "output_type": "execute_result"
    }
   ],
   "source": [
    "emi1"
   ]
  },
  {
   "cell_type": "code",
   "execution_count": 26,
   "id": "respected-motivation",
   "metadata": {},
   "outputs": [],
   "source": [
    "emi2=loan_borrow(100000,0./12,10*12)"
   ]
  },
  {
   "cell_type": "code",
   "execution_count": 27,
   "id": "miniature-establishment",
   "metadata": {},
   "outputs": [
    {
     "data": {
      "text/plain": [
       "834"
      ]
     },
     "execution_count": 27,
     "metadata": {},
     "output_type": "execute_result"
    }
   ],
   "source": [
    "emi2"
   ]
  },
  {
   "cell_type": "code",
   "execution_count": 28,
   "id": "integrated-instruction",
   "metadata": {},
   "outputs": [
    {
     "data": {
      "text/plain": [
       "51960"
      ]
     },
     "execution_count": 28,
     "metadata": {},
     "output_type": "execute_result"
    }
   ],
   "source": [
    "EMI=(emi1-emi2)*10*12\n",
    "EMI"
   ]
  },
  {
   "cell_type": "code",
   "execution_count": null,
   "id": "exterior-action",
   "metadata": {},
   "outputs": [],
   "source": []
  },
  {
   "cell_type": "code",
   "execution_count": null,
   "id": "regional-template",
   "metadata": {},
   "outputs": [],
   "source": []
  },
  {
   "cell_type": "code",
   "execution_count": 29,
   "id": "opened-affiliation",
   "metadata": {},
   "outputs": [
    {
     "name": "stdout",
     "output_type": "stream",
     "text": [
      "Now computing the result...\n",
      "Failed to compute result because you were trying to divide by zero\n",
      "None\n"
     ]
    }
   ],
   "source": [
    "try:\n",
    "    print(\"Now computing the result...\")\n",
    "    result=5/0\n",
    "    print(\"computation was completed succesfully\")\n",
    "except ZeroDivisionError:\n",
    "    print(\"Failed to compute result because you were trying to divide by zero\")\n",
    "    result=None\n",
    "print(result)"
   ]
  },
  {
   "cell_type": "code",
   "execution_count": 30,
   "id": "least-redhead",
   "metadata": {},
   "outputs": [
    {
     "name": "stderr",
     "output_type": "stream",
     "text": [
      "WARNING: You are using pip version 20.2.3; however, version 21.0.1 is available.\n",
      "You should consider upgrading via the 'c:\\python\\python39\\python.exe -m pip install --upgrade pip' command.\n"
     ]
    }
   ],
   "source": [
    "!pip install jovian --upgrade --quiet"
   ]
  },
  {
   "cell_type": "code",
   "execution_count": 31,
   "id": "coordinate-wisconsin",
   "metadata": {},
   "outputs": [],
   "source": [
    "import jovian"
   ]
  },
  {
   "cell_type": "code",
   "execution_count": null,
   "id": "capital-banner",
   "metadata": {},
   "outputs": [
    {
     "data": {
      "application/javascript": [
       "window.require && require([\"base/js/namespace\"],function(Jupyter){Jupyter.notebook.save_checkpoint()})"
      ],
      "text/plain": [
       "<IPython.core.display.Javascript object>"
      ]
     },
     "metadata": {},
     "output_type": "display_data"
    },
    {
     "name": "stdout",
     "output_type": "stream",
     "text": [
      "[jovian] Attempting to save notebook..\r\n"
     ]
    }
   ],
   "source": [
    "jovian.commit(project=\"python-functon-and-scope\",enviroment=None)"
   ]
  },
  {
   "cell_type": "code",
   "execution_count": null,
   "id": "damaged-vatican",
   "metadata": {},
   "outputs": [],
   "source": [
    "import os"
   ]
  },
  {
   "cell_type": "code",
   "execution_count": null,
   "id": "included-clone",
   "metadata": {},
   "outputs": [],
   "source": [
    "os.getcwd()"
   ]
  },
  {
   "cell_type": "code",
   "execution_count": null,
   "id": "chronic-southwest",
   "metadata": {},
   "outputs": [],
   "source": [
    "help(os.listdir)"
   ]
  },
  {
   "cell_type": "code",
   "execution_count": null,
   "id": "electoral-values",
   "metadata": {},
   "outputs": [],
   "source": [
    "os.listdir('.')"
   ]
  },
  {
   "cell_type": "code",
   "execution_count": null,
   "id": "solar-result",
   "metadata": {},
   "outputs": [],
   "source": [
    "os.listdir('/')"
   ]
  },
  {
   "cell_type": "code",
   "execution_count": null,
   "id": "hairy-collective",
   "metadata": {},
   "outputs": [],
   "source": [
    "os.makedirs('./data',exist_ok=True)"
   ]
  },
  {
   "cell_type": "code",
   "execution_count": null,
   "id": "analyzed-production",
   "metadata": {},
   "outputs": [],
   "source": []
  },
  {
   "cell_type": "code",
   "execution_count": null,
   "id": "legendary-purse",
   "metadata": {},
   "outputs": [],
   "source": []
  }
 ],
 "metadata": {
  "kernelspec": {
   "display_name": "Python 3",
   "language": "python",
   "name": "python3"
  },
  "language_info": {
   "codemirror_mode": {
    "name": "ipython",
    "version": 3
   },
   "file_extension": ".py",
   "mimetype": "text/x-python",
   "name": "python",
   "nbconvert_exporter": "python",
   "pygments_lexer": "ipython3",
   "version": "3.9.2"
  }
 },
 "nbformat": 4,
 "nbformat_minor": 5
}
