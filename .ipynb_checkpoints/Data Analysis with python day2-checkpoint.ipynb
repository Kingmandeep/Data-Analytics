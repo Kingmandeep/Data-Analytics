{
 "cells": [
  {
   "cell_type": "markdown",
   "id": "forty-platinum",
   "metadata": {},
   "source": [
    "# Creating and using function"
   ]
  },
  {
   "cell_type": "code",
   "execution_count": 1,
   "id": "renewable-antibody",
   "metadata": {},
   "outputs": [
    {
     "name": "stdout",
     "output_type": "stream",
     "text": [
      "Today is Sunday\n"
     ]
    }
   ],
   "source": [
    "today=\"Sunday\"\n",
    "print(\"Today is\",today)"
   ]
  },
  {
   "cell_type": "code",
   "execution_count": 2,
   "id": "caring-layer",
   "metadata": {},
   "outputs": [],
   "source": [
    "def say_hello():\n",
    "    print(\"Hello Guys\")\n",
    "    print(\"How are You\")"
   ]
  },
  {
   "cell_type": "code",
   "execution_count": 3,
   "id": "strong-marble",
   "metadata": {},
   "outputs": [
    {
     "name": "stdout",
     "output_type": "stream",
     "text": [
      "Hello Guys\n",
      "How are You\n"
     ]
    }
   ],
   "source": [
    "say_hello()"
   ]
  },
  {
   "cell_type": "code",
   "execution_count": 4,
   "id": "hawaiian-updating",
   "metadata": {},
   "outputs": [],
   "source": [
    "def filter_even(numbers):\n",
    "    result=[]\n",
    "    for i in numbers:\n",
    "        if i%2==0:\n",
    "            result.append(i)\n",
    "    return result\n"
   ]
  },
  {
   "cell_type": "code",
   "execution_count": 5,
   "id": "pressed-phenomenon",
   "metadata": {},
   "outputs": [],
   "source": [
    "ven=filter_even([1,2,3,4,5,6,7])"
   ]
  },
  {
   "cell_type": "code",
   "execution_count": 6,
   "id": "bearing-grass",
   "metadata": {},
   "outputs": [
    {
     "data": {
      "text/plain": [
       "[2, 4, 6]"
      ]
     },
     "execution_count": 6,
     "metadata": {},
     "output_type": "execute_result"
    }
   ],
   "source": [
    "ven"
   ]
  },
  {
   "cell_type": "code",
   "execution_count": 7,
   "id": "geological-facility",
   "metadata": {},
   "outputs": [],
   "source": [
    "def loan_emi(amount):\n",
    "    emi=amount/12\n",
    "    print(\"The EMI is ${}\".format(emi))"
   ]
  },
  {
   "cell_type": "code",
   "execution_count": 8,
   "id": "paperback-conjunction",
   "metadata": {},
   "outputs": [
    {
     "name": "stdout",
     "output_type": "stream",
     "text": [
      "The EMI is $105000.0\n"
     ]
    }
   ],
   "source": [
    "loan_emi(1260000)"
   ]
  },
  {
   "cell_type": "code",
   "execution_count": 9,
   "id": "widespread-generic",
   "metadata": {},
   "outputs": [],
   "source": [
    "def loan_emi(amount,duration):\n",
    "    emi=amount/duration\n",
    "    print(\"THe EMI is $ {}\".format(emi))"
   ]
  },
  {
   "cell_type": "code",
   "execution_count": 10,
   "id": "packed-photographer",
   "metadata": {},
   "outputs": [
    {
     "name": "stdout",
     "output_type": "stream",
     "text": [
      "THe EMI is $ 13125.0\n"
     ]
    }
   ],
   "source": [
    "loan_emi(1260000,12*8)"
   ]
  },
  {
   "cell_type": "code",
   "execution_count": 11,
   "id": "impaired-confidence",
   "metadata": {},
   "outputs": [
    {
     "name": "stdout",
     "output_type": "stream",
     "text": [
      "THe EMI is $ 10500.0\n"
     ]
    }
   ],
   "source": [
    "loan_emi(1260000,12*10)"
   ]
  },
  {
   "cell_type": "code",
   "execution_count": 12,
   "id": "sitting-seafood",
   "metadata": {},
   "outputs": [],
   "source": [
    "def loan_emi(amount,duration):\n",
    "    emi=amount/duration\n",
    "    return emi"
   ]
  },
  {
   "cell_type": "code",
   "execution_count": 13,
   "id": "electrical-newton",
   "metadata": {},
   "outputs": [],
   "source": [
    "emi1=loan_emi(1260000,12*8)"
   ]
  },
  {
   "cell_type": "code",
   "execution_count": 14,
   "id": "dried-toolbox",
   "metadata": {},
   "outputs": [],
   "source": [
    "emi2=loan_emi(1260000,12*10)"
   ]
  },
  {
   "cell_type": "code",
   "execution_count": 15,
   "id": "indonesian-madison",
   "metadata": {},
   "outputs": [
    {
     "data": {
      "text/plain": [
       "13125.0"
      ]
     },
     "execution_count": 15,
     "metadata": {},
     "output_type": "execute_result"
    }
   ],
   "source": [
    "emi1"
   ]
  },
  {
   "cell_type": "code",
   "execution_count": 16,
   "id": "proved-cooking",
   "metadata": {},
   "outputs": [
    {
     "data": {
      "text/plain": [
       "10500.0"
      ]
     },
     "execution_count": 16,
     "metadata": {},
     "output_type": "execute_result"
    }
   ],
   "source": [
    "emi2"
   ]
  },
  {
   "cell_type": "code",
   "execution_count": 17,
   "id": "surgical-surgery",
   "metadata": {},
   "outputs": [],
   "source": [
    "def loan_emi(amount,duration,down_payment=0):\n",
    "    loan_amount=amount-down_payment\n",
    "    emi=loan_amount/duration\n",
    "    return emi"
   ]
  },
  {
   "cell_type": "code",
   "execution_count": 19,
   "id": "proud-illinois",
   "metadata": {},
   "outputs": [],
   "source": [
    "emi1=loan_emi(1260000,12*8, 3e5)"
   ]
  },
  {
   "cell_type": "code",
   "execution_count": 20,
   "id": "running-promise",
   "metadata": {},
   "outputs": [
    {
     "data": {
      "text/plain": [
       "10000.0"
      ]
     },
     "execution_count": 20,
     "metadata": {},
     "output_type": "execute_result"
    }
   ],
   "source": [
    "emi1"
   ]
  },
  {
   "cell_type": "code",
   "execution_count": 21,
   "id": "adopted-sustainability",
   "metadata": {},
   "outputs": [],
   "source": [
    "emi2=loan_emi(1260000,10*12)"
   ]
  },
  {
   "cell_type": "code",
   "execution_count": 22,
   "id": "separated-player",
   "metadata": {},
   "outputs": [
    {
     "data": {
      "text/plain": [
       "10500.0"
      ]
     },
     "execution_count": 22,
     "metadata": {},
     "output_type": "execute_result"
    }
   ],
   "source": [
    "emi2"
   ]
  },
  {
   "cell_type": "code",
   "execution_count": 26,
   "id": "reliable-nomination",
   "metadata": {},
   "outputs": [],
   "source": [
    "def loan_emi(amount,rate,duration,down_payment=0):\n",
    "    loan_amount=amount-down_payment\n",
    "    emi=(loan_amount*rate*((1+rate)**duration))/(((1+rate)**duration)-1)\n",
    "    return emi\n",
    "    "
   ]
  },
  {
   "cell_type": "code",
   "execution_count": 27,
   "id": "major-label",
   "metadata": {},
   "outputs": [],
   "source": [
    "emi1=loan_emi(1260000,0.1/12,12*8,3e5)"
   ]
  },
  {
   "cell_type": "code",
   "execution_count": 28,
   "id": "interior-terrain",
   "metadata": {},
   "outputs": [
    {
     "data": {
      "text/plain": [
       "14567.19753389219"
      ]
     },
     "execution_count": 28,
     "metadata": {},
     "output_type": "execute_result"
    }
   ],
   "source": [
    "emi1"
   ]
  },
  {
   "cell_type": "code",
   "execution_count": 29,
   "id": "entitled-immunology",
   "metadata": {},
   "outputs": [],
   "source": [
    "emi2=loan_emi(1260000,.08/12,12*10)"
   ]
  },
  {
   "cell_type": "code",
   "execution_count": 30,
   "id": "precious-thriller",
   "metadata": {},
   "outputs": [
    {
     "data": {
      "text/plain": [
       "15287.276888775077"
      ]
     },
     "execution_count": 30,
     "metadata": {},
     "output_type": "execute_result"
    }
   ],
   "source": [
    "emi2"
   ]
  },
  {
   "cell_type": "code",
   "execution_count": null,
   "id": "consecutive-helping",
   "metadata": {},
   "outputs": [],
   "source": []
  }
 ],
 "metadata": {
  "kernelspec": {
   "display_name": "Python 3",
   "language": "python",
   "name": "python3"
  },
  "language_info": {
   "codemirror_mode": {
    "name": "ipython",
    "version": 3
   },
   "file_extension": ".py",
   "mimetype": "text/x-python",
   "name": "python",
   "nbconvert_exporter": "python",
   "pygments_lexer": "ipython3",
   "version": "3.9.2"
  }
 },
 "nbformat": 4,
 "nbformat_minor": 5
}
